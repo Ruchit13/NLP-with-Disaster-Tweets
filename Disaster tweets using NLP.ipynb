{
 "cells": [
  {
   "cell_type": "code",
   "execution_count": 1,
   "metadata": {
    "_cell_guid": "b1076dfc-b9ad-4769-8c92-a6c4dae69d19",
    "_uuid": "8f2839f25d086af736a60e9eeb907d3b93b6e0e5",
    "execution": {
     "iopub.execute_input": "2021-06-22T14:49:36.333292Z",
     "iopub.status.busy": "2021-06-22T14:49:36.332039Z",
     "iopub.status.idle": "2021-06-22T14:49:36.358471Z",
     "shell.execute_reply": "2021-06-22T14:49:36.357092Z",
     "shell.execute_reply.started": "2021-06-22T14:49:36.333050Z"
    }
   },
   "outputs": [
    {
     "name": "stdout",
     "output_type": "stream",
     "text": [
      "/kaggle/input/nlp-getting-started/sample_submission.csv\n",
      "/kaggle/input/nlp-getting-started/train.csv\n",
      "/kaggle/input/nlp-getting-started/test.csv\n"
     ]
    }
   ],
   "source": [
    "# This Python 3 environment comes with many helpful analytics libraries installed\n",
    "# It is defined by the kaggle/python Docker image: https://github.com/kaggle/docker-python\n",
    "# For example, here's several helpful packages to load\n",
    "\n",
    "import numpy as np # linear algebra\n",
    "import pandas as pd # data processing, CSV file I/O (e.g. pd.read_csv)\n",
    "\n",
    "# Input data files are available in the read-only \"../input/\" directory\n",
    "# For example, running this (by clicking run or pressing Shift+Enter) will list all files under the input directory\n",
    "\n",
    "import os\n",
    "for dirname, _, filenames in os.walk('/kaggle/input'):\n",
    "    for filename in filenames:\n",
    "        print(os.path.join(dirname, filename))\n",
    "\n",
    "# You can write up to 20GB to the current directory (/kaggle/working/) that gets preserved as output when you create a version using \"Save & Run All\" \n",
    "# You can also write temporary files to /kaggle/temp/, but they won't be saved outside of the current session"
   ]
  },
  {
   "cell_type": "markdown",
   "metadata": {},
   "source": [
    "# IMPORTING REQUIRED LIBRARIES"
   ]
  },
  {
   "cell_type": "code",
   "execution_count": 2,
   "metadata": {
    "execution": {
     "iopub.execute_input": "2021-06-22T14:49:40.004562Z",
     "iopub.status.busy": "2021-06-22T14:49:40.004179Z",
     "iopub.status.idle": "2021-06-22T14:49:40.773522Z",
     "shell.execute_reply": "2021-06-22T14:49:40.771793Z",
     "shell.execute_reply.started": "2021-06-22T14:49:40.004530Z"
    }
   },
   "outputs": [
    {
     "name": "stdout",
     "output_type": "stream",
     "text": [
      "[nltk_data] Downloading package stopwords to /usr/share/nltk_data...\n",
      "[nltk_data]   Package stopwords is already up-to-date!\n"
     ]
    }
   ],
   "source": [
    "#import the Libraries\n",
    "import time\n",
    "import re\n",
    "import nltk\n",
    "nltk.download('stopwords')\n",
    "from nltk.corpus import stopwords\n",
    "from nltk.stem.porter import PorterStemmer\n",
    "from sklearn.feature_extraction.text import CountVectorizer \n",
    "from sklearn.naive_bayes import GaussianNB as NB \n",
    "from sklearn.model_selection import train_test_split\n",
    "from sklearn.linear_model import LogisticRegression as LR \n",
    "from sklearn.neighbors import KNeighborsClassifier as KNN\n",
    "from sklearn.metrics import confusion_matrix,classification_report,accuracy_score"
   ]
  },
  {
   "cell_type": "code",
   "execution_count": 3,
   "metadata": {
    "execution": {
     "iopub.execute_input": "2021-06-22T14:49:44.814836Z",
     "iopub.status.busy": "2021-06-22T14:49:44.814445Z",
     "iopub.status.idle": "2021-06-22T14:49:44.876439Z",
     "shell.execute_reply": "2021-06-22T14:49:44.875466Z",
     "shell.execute_reply.started": "2021-06-22T14:49:44.814803Z"
    }
   },
   "outputs": [
    {
     "data": {
      "text/html": [
       "<div>\n",
       "<style scoped>\n",
       "    .dataframe tbody tr th:only-of-type {\n",
       "        vertical-align: middle;\n",
       "    }\n",
       "\n",
       "    .dataframe tbody tr th {\n",
       "        vertical-align: top;\n",
       "    }\n",
       "\n",
       "    .dataframe thead th {\n",
       "        text-align: right;\n",
       "    }\n",
       "</style>\n",
       "<table border=\"1\" class=\"dataframe\">\n",
       "  <thead>\n",
       "    <tr style=\"text-align: right;\">\n",
       "      <th></th>\n",
       "      <th>id</th>\n",
       "      <th>keyword</th>\n",
       "      <th>location</th>\n",
       "      <th>text</th>\n",
       "      <th>target</th>\n",
       "    </tr>\n",
       "  </thead>\n",
       "  <tbody>\n",
       "    <tr>\n",
       "      <th>0</th>\n",
       "      <td>1</td>\n",
       "      <td>NaN</td>\n",
       "      <td>NaN</td>\n",
       "      <td>Our Deeds are the Reason of this #earthquake M...</td>\n",
       "      <td>1</td>\n",
       "    </tr>\n",
       "    <tr>\n",
       "      <th>1</th>\n",
       "      <td>4</td>\n",
       "      <td>NaN</td>\n",
       "      <td>NaN</td>\n",
       "      <td>Forest fire near La Ronge Sask. Canada</td>\n",
       "      <td>1</td>\n",
       "    </tr>\n",
       "    <tr>\n",
       "      <th>2</th>\n",
       "      <td>5</td>\n",
       "      <td>NaN</td>\n",
       "      <td>NaN</td>\n",
       "      <td>All residents asked to 'shelter in place' are ...</td>\n",
       "      <td>1</td>\n",
       "    </tr>\n",
       "    <tr>\n",
       "      <th>3</th>\n",
       "      <td>6</td>\n",
       "      <td>NaN</td>\n",
       "      <td>NaN</td>\n",
       "      <td>13,000 people receive #wildfires evacuation or...</td>\n",
       "      <td>1</td>\n",
       "    </tr>\n",
       "    <tr>\n",
       "      <th>4</th>\n",
       "      <td>7</td>\n",
       "      <td>NaN</td>\n",
       "      <td>NaN</td>\n",
       "      <td>Just got sent this photo from Ruby #Alaska as ...</td>\n",
       "      <td>1</td>\n",
       "    </tr>\n",
       "  </tbody>\n",
       "</table>\n",
       "</div>"
      ],
      "text/plain": [
       "   id keyword location                                               text  \\\n",
       "0   1     NaN      NaN  Our Deeds are the Reason of this #earthquake M...   \n",
       "1   4     NaN      NaN             Forest fire near La Ronge Sask. Canada   \n",
       "2   5     NaN      NaN  All residents asked to 'shelter in place' are ...   \n",
       "3   6     NaN      NaN  13,000 people receive #wildfires evacuation or...   \n",
       "4   7     NaN      NaN  Just got sent this photo from Ruby #Alaska as ...   \n",
       "\n",
       "   target  \n",
       "0       1  \n",
       "1       1  \n",
       "2       1  \n",
       "3       1  \n",
       "4       1  "
      ]
     },
     "execution_count": 3,
     "metadata": {},
     "output_type": "execute_result"
    }
   ],
   "source": [
    "#Import the Training Dataset\n",
    "train_df = pd.read_csv('../input/nlp-getting-started/train.csv')\n",
    "train_df.head()"
   ]
  },
  {
   "cell_type": "markdown",
   "metadata": {},
   "source": [
    "# Understanding Data"
   ]
  },
  {
   "cell_type": "code",
   "execution_count": 4,
   "metadata": {
    "execution": {
     "iopub.execute_input": "2021-06-22T14:49:48.321846Z",
     "iopub.status.busy": "2021-06-22T14:49:48.321210Z",
     "iopub.status.idle": "2021-06-22T14:49:48.326945Z",
     "shell.execute_reply": "2021-06-22T14:49:48.326200Z",
     "shell.execute_reply.started": "2021-06-22T14:49:48.321808Z"
    }
   },
   "outputs": [
    {
     "name": "stdout",
     "output_type": "stream",
     "text": [
      "Shape of the data (7613, 5)\n",
      "['id', 'keyword', 'location', 'text', 'target']\n"
     ]
    }
   ],
   "source": [
    "#Get the info on the shape of training dataset and list out the columns\n",
    "print(\"Shape of the data\",train_df.shape)\n",
    "print(list(train_df.columns))"
   ]
  },
  {
   "cell_type": "code",
   "execution_count": 5,
   "metadata": {
    "execution": {
     "iopub.execute_input": "2021-06-22T14:49:51.001171Z",
     "iopub.status.busy": "2021-06-22T14:49:51.000644Z",
     "iopub.status.idle": "2021-06-22T14:49:51.019822Z",
     "shell.execute_reply": "2021-06-22T14:49:51.018723Z",
     "shell.execute_reply.started": "2021-06-22T14:49:51.001138Z"
    }
   },
   "outputs": [
    {
     "name": "stdout",
     "output_type": "stream",
     "text": [
      "<class 'pandas.core.frame.DataFrame'>\n",
      "RangeIndex: 7613 entries, 0 to 7612\n",
      "Data columns (total 5 columns):\n",
      " #   Column    Non-Null Count  Dtype \n",
      "---  ------    --------------  ----- \n",
      " 0   id        7613 non-null   int64 \n",
      " 1   keyword   7552 non-null   object\n",
      " 2   location  5080 non-null   object\n",
      " 3   text      7613 non-null   object\n",
      " 4   target    7613 non-null   int64 \n",
      "dtypes: int64(2), object(3)\n",
      "memory usage: 297.5+ KB\n"
     ]
    }
   ],
   "source": [
    "#General Description of the data\n",
    "train_df.info()"
   ]
  },
  {
   "cell_type": "code",
   "execution_count": 6,
   "metadata": {
    "execution": {
     "iopub.execute_input": "2021-06-22T14:49:53.604061Z",
     "iopub.status.busy": "2021-06-22T14:49:53.603666Z",
     "iopub.status.idle": "2021-06-22T14:49:53.615728Z",
     "shell.execute_reply": "2021-06-22T14:49:53.614760Z",
     "shell.execute_reply.started": "2021-06-22T14:49:53.604024Z"
    }
   },
   "outputs": [
    {
     "data": {
      "text/html": [
       "<div>\n",
       "<style scoped>\n",
       "    .dataframe tbody tr th:only-of-type {\n",
       "        vertical-align: middle;\n",
       "    }\n",
       "\n",
       "    .dataframe tbody tr th {\n",
       "        vertical-align: top;\n",
       "    }\n",
       "\n",
       "    .dataframe thead th {\n",
       "        text-align: right;\n",
       "    }\n",
       "</style>\n",
       "<table border=\"1\" class=\"dataframe\">\n",
       "  <thead>\n",
       "    <tr style=\"text-align: right;\">\n",
       "      <th></th>\n",
       "      <th>text</th>\n",
       "      <th>target</th>\n",
       "    </tr>\n",
       "  </thead>\n",
       "  <tbody>\n",
       "    <tr>\n",
       "      <th>0</th>\n",
       "      <td>Our Deeds are the Reason of this #earthquake M...</td>\n",
       "      <td>1</td>\n",
       "    </tr>\n",
       "    <tr>\n",
       "      <th>1</th>\n",
       "      <td>Forest fire near La Ronge Sask. Canada</td>\n",
       "      <td>1</td>\n",
       "    </tr>\n",
       "    <tr>\n",
       "      <th>2</th>\n",
       "      <td>All residents asked to 'shelter in place' are ...</td>\n",
       "      <td>1</td>\n",
       "    </tr>\n",
       "    <tr>\n",
       "      <th>3</th>\n",
       "      <td>13,000 people receive #wildfires evacuation or...</td>\n",
       "      <td>1</td>\n",
       "    </tr>\n",
       "    <tr>\n",
       "      <th>4</th>\n",
       "      <td>Just got sent this photo from Ruby #Alaska as ...</td>\n",
       "      <td>1</td>\n",
       "    </tr>\n",
       "  </tbody>\n",
       "</table>\n",
       "</div>"
      ],
      "text/plain": [
       "                                                text  target\n",
       "0  Our Deeds are the Reason of this #earthquake M...       1\n",
       "1             Forest fire near La Ronge Sask. Canada       1\n",
       "2  All residents asked to 'shelter in place' are ...       1\n",
       "3  13,000 people receive #wildfires evacuation or...       1\n",
       "4  Just got sent this photo from Ruby #Alaska as ...       1"
      ]
     },
     "execution_count": 6,
     "metadata": {},
     "output_type": "execute_result"
    }
   ],
   "source": [
    "#Drop the features that aren't useful\n",
    "train_df = train_df.drop(['id','keyword','location'],axis=1)\n",
    "train_df.head()"
   ]
  },
  {
   "cell_type": "markdown",
   "metadata": {},
   "source": [
    "# Data Cleaning"
   ]
  },
  {
   "cell_type": "code",
   "execution_count": 7,
   "metadata": {
    "execution": {
     "iopub.execute_input": "2021-06-22T14:52:41.770859Z",
     "iopub.status.busy": "2021-06-22T14:52:41.770454Z",
     "iopub.status.idle": "2021-06-22T14:52:52.221057Z",
     "shell.execute_reply": "2021-06-22T14:52:52.220099Z",
     "shell.execute_reply.started": "2021-06-22T14:52:41.770828Z"
    }
   },
   "outputs": [
    {
     "name": "stdout",
     "output_type": "stream",
     "text": [
      "Creating the corpus\n",
      "Done!\n"
     ]
    },
    {
     "name": "stdin",
     "output_type": "stream",
     "text": [
      "Want to view the corpus(1:YES/0:NO)? 0\n"
     ]
    }
   ],
   "source": [
    "corpus = []\n",
    "for i in range(0,train_df.shape[0]):\n",
    "    #Replaces every character thats not an alphabet to \" \"\n",
    "    review = re.sub('[^a-zA-Z]', \" \",train_df['text'][i]) \n",
    "    #Convert all words to lower case and splits them\n",
    "    review = review.lower() \n",
    "    review = review.split() \n",
    "    ps = PorterStemmer()\n",
    "    updated_stopwords = stopwords.words('english') \n",
    "    #Remove the word 'not' from the list of stopwords \n",
    "    updated_stopwords.remove('not') \n",
    "    #Stemming\n",
    "    review = [ps.stem(word) for word in review if not word in set(updated_stopwords)] \n",
    "    review = ' '.join(review)\n",
    "    corpus.append(review)\n",
    "\n",
    "print(\"Creating the corpus\")\n",
    "time.sleep(3)\n",
    "print(\"Done!\")\n",
    "x = int(input(\"Want to view the corpus(1:YES/0:NO)?\"))\n",
    "if x==1:\n",
    "    print(\"Printing\")\n",
    "    time.sleep(3)\n",
    "    print(\"......\")\n",
    "    time.sleep(3)\n",
    "    print(corpus)\n",
    "else:\n",
    "    pass"
   ]
  },
  {
   "cell_type": "markdown",
   "metadata": {},
   "source": [
    "# Creating a Bag of Words"
   ]
  },
  {
   "cell_type": "code",
   "execution_count": 8,
   "metadata": {
    "execution": {
     "iopub.execute_input": "2021-06-22T14:52:55.276736Z",
     "iopub.status.busy": "2021-06-22T14:52:55.276382Z",
     "iopub.status.idle": "2021-06-22T14:52:55.756717Z",
     "shell.execute_reply": "2021-06-22T14:52:55.756016Z",
     "shell.execute_reply.started": "2021-06-22T14:52:55.276708Z"
    }
   },
   "outputs": [],
   "source": [
    "cv = CountVectorizer()\n",
    "X = cv.fit_transform(corpus).toarray() \n",
    "y = train_df.iloc[:,-1].values"
   ]
  },
  {
   "cell_type": "markdown",
   "metadata": {},
   "source": [
    "# Dividing the training data into train and test data"
   ]
  },
  {
   "cell_type": "code",
   "execution_count": 9,
   "metadata": {
    "execution": {
     "iopub.execute_input": "2021-06-22T14:52:58.495264Z",
     "iopub.status.busy": "2021-06-22T14:52:58.494758Z",
     "iopub.status.idle": "2021-06-22T14:52:59.220401Z",
     "shell.execute_reply": "2021-06-22T14:52:59.219391Z",
     "shell.execute_reply.started": "2021-06-22T14:52:58.495221Z"
    }
   },
   "outputs": [],
   "source": [
    "x_train,x_test,y_train, y_test = train_test_split(X,y,test_size = 0.2,random_state=42)"
   ]
  },
  {
   "cell_type": "markdown",
   "metadata": {},
   "source": [
    "# Training the data on Naive Bayes, Logistic Regression and KNN"
   ]
  },
  {
   "cell_type": "code",
   "execution_count": 10,
   "metadata": {
    "execution": {
     "iopub.execute_input": "2021-06-22T14:53:02.470609Z",
     "iopub.status.busy": "2021-06-22T14:53:02.470006Z",
     "iopub.status.idle": "2021-06-22T14:53:24.978799Z",
     "shell.execute_reply": "2021-06-22T14:53:24.977825Z",
     "shell.execute_reply.started": "2021-06-22T14:53:02.470557Z"
    }
   },
   "outputs": [],
   "source": [
    "#Naive Bayes\n",
    "classifier_nb = NB()\n",
    "classifier_nb.fit(x_train,y_train)\n",
    "y_pred_nb = classifier_nb.predict(x_test)\n",
    "\n",
    "#Logistic Regression\n",
    "classifier_lr = LR(random_state = 0)\n",
    "classifier_lr.fit(x_train, y_train)\n",
    "y_pred_lr = classifier_lr.predict(x_test)\n",
    "\n",
    "#KNN\n",
    "classifier_knn = KNN(n_neighbors = 5, metric = 'minkowski', p = 2)\n",
    "classifier_knn.fit(x_train, y_train)\n",
    "y_pred_knn = classifier_knn.predict(x_test)\n"
   ]
  },
  {
   "cell_type": "markdown",
   "metadata": {},
   "source": [
    "# Reports on how well our different classifiers have perfomed"
   ]
  },
  {
   "cell_type": "markdown",
   "metadata": {},
   "source": [
    "1. NAIVE BAYES ANALYSIS"
   ]
  },
  {
   "cell_type": "code",
   "execution_count": 11,
   "metadata": {
    "execution": {
     "iopub.execute_input": "2021-06-22T14:53:33.913552Z",
     "iopub.status.busy": "2021-06-22T14:53:33.913149Z",
     "iopub.status.idle": "2021-06-22T14:53:34.931823Z",
     "shell.execute_reply": "2021-06-22T14:53:34.930719Z",
     "shell.execute_reply.started": "2021-06-22T14:53:33.913516Z"
    }
   },
   "outputs": [
    {
     "name": "stdout",
     "output_type": "stream",
     "text": [
      "NAIVE BAYES ANALYSIS\n",
      "[[387 487]\n",
      " [124 525]]\n",
      "              precision    recall  f1-score   support\n",
      "\n",
      "           0       0.76      0.44      0.56       874\n",
      "           1       0.52      0.81      0.63       649\n",
      "\n",
      "    accuracy                           0.60      1523\n",
      "   macro avg       0.64      0.63      0.60      1523\n",
      "weighted avg       0.66      0.60      0.59      1523\n",
      "\n",
      "Accuracy is 60 %\n"
     ]
    }
   ],
   "source": [
    "print(\"NAIVE BAYES ANALYSIS\")\n",
    "time.sleep(1)\n",
    "print(confusion_matrix(y_test,y_pred_nb))\n",
    "print(classification_report(y_test,y_pred_nb))\n",
    "print(\"Accuracy is\",round(accuracy_score(y_test,y_pred_nb)*100),'%')\n"
   ]
  },
  {
   "cell_type": "markdown",
   "metadata": {},
   "source": [
    "2. LOGISTIC REGRESSION ANALYSIS"
   ]
  },
  {
   "cell_type": "code",
   "execution_count": 12,
   "metadata": {
    "execution": {
     "iopub.execute_input": "2021-06-22T14:53:38.247589Z",
     "iopub.status.busy": "2021-06-22T14:53:38.247217Z",
     "iopub.status.idle": "2021-06-22T14:53:39.267700Z",
     "shell.execute_reply": "2021-06-22T14:53:39.266471Z",
     "shell.execute_reply.started": "2021-06-22T14:53:38.247558Z"
    }
   },
   "outputs": [
    {
     "name": "stdout",
     "output_type": "stream",
     "text": [
      "LOGISTIC REGRESSION ANALYSIS\n",
      "[[751 123]\n",
      " [199 450]]\n",
      "              precision    recall  f1-score   support\n",
      "\n",
      "           0       0.79      0.86      0.82       874\n",
      "           1       0.79      0.69      0.74       649\n",
      "\n",
      "    accuracy                           0.79      1523\n",
      "   macro avg       0.79      0.78      0.78      1523\n",
      "weighted avg       0.79      0.79      0.79      1523\n",
      "\n",
      "Accuracy is 79 %\n"
     ]
    }
   ],
   "source": [
    "print(\"LOGISTIC REGRESSION ANALYSIS\")\n",
    "time.sleep(1)\n",
    "print(confusion_matrix(y_test,y_pred_lr))\n",
    "print(classification_report(y_test,y_pred_lr))\n",
    "print(\"Accuracy is\",round(accuracy_score(y_test,y_pred_lr)*100),'%')\n"
   ]
  },
  {
   "cell_type": "markdown",
   "metadata": {},
   "source": [
    "3. KNN ANALYSIS"
   ]
  },
  {
   "cell_type": "code",
   "execution_count": 13,
   "metadata": {
    "execution": {
     "iopub.execute_input": "2021-06-22T14:53:47.138410Z",
     "iopub.status.busy": "2021-06-22T14:53:47.138050Z",
     "iopub.status.idle": "2021-06-22T14:53:48.155654Z",
     "shell.execute_reply": "2021-06-22T14:53:48.154531Z",
     "shell.execute_reply.started": "2021-06-22T14:53:47.138380Z"
    }
   },
   "outputs": [
    {
     "name": "stdout",
     "output_type": "stream",
     "text": [
      "KNN ANALYSIS\n",
      "[[862  12]\n",
      " [466 183]]\n",
      "              precision    recall  f1-score   support\n",
      "\n",
      "           0       0.65      0.99      0.78       874\n",
      "           1       0.94      0.28      0.43       649\n",
      "\n",
      "    accuracy                           0.69      1523\n",
      "   macro avg       0.79      0.63      0.61      1523\n",
      "weighted avg       0.77      0.69      0.63      1523\n",
      "\n",
      "Accuracy is 69 %\n"
     ]
    }
   ],
   "source": [
    "print(\"KNN ANALYSIS\")\n",
    "time.sleep(1)\n",
    "print(confusion_matrix(y_test,y_pred_knn))\n",
    "print(classification_report(y_test,y_pred_knn))\n",
    "print(\"Accuracy is\",round(accuracy_score(y_test,y_pred_knn)*100),'%')"
   ]
  },
  {
   "cell_type": "markdown",
   "metadata": {},
   "source": [
    "We can see how well our classifiers have perfomed above. Logistic regression has performed better compared to others."
   ]
  },
  {
   "cell_type": "markdown",
   "metadata": {},
   "source": [
    "# Test data input"
   ]
  },
  {
   "cell_type": "code",
   "execution_count": 14,
   "metadata": {
    "execution": {
     "iopub.execute_input": "2021-06-22T14:54:08.839804Z",
     "iopub.status.busy": "2021-06-22T14:54:08.839372Z",
     "iopub.status.idle": "2021-06-22T14:54:08.868142Z",
     "shell.execute_reply": "2021-06-22T14:54:08.867098Z",
     "shell.execute_reply.started": "2021-06-22T14:54:08.839763Z"
    }
   },
   "outputs": [
    {
     "data": {
      "text/html": [
       "<div>\n",
       "<style scoped>\n",
       "    .dataframe tbody tr th:only-of-type {\n",
       "        vertical-align: middle;\n",
       "    }\n",
       "\n",
       "    .dataframe tbody tr th {\n",
       "        vertical-align: top;\n",
       "    }\n",
       "\n",
       "    .dataframe thead th {\n",
       "        text-align: right;\n",
       "    }\n",
       "</style>\n",
       "<table border=\"1\" class=\"dataframe\">\n",
       "  <thead>\n",
       "    <tr style=\"text-align: right;\">\n",
       "      <th></th>\n",
       "      <th>id</th>\n",
       "      <th>keyword</th>\n",
       "      <th>location</th>\n",
       "      <th>text</th>\n",
       "    </tr>\n",
       "  </thead>\n",
       "  <tbody>\n",
       "    <tr>\n",
       "      <th>0</th>\n",
       "      <td>0</td>\n",
       "      <td>NaN</td>\n",
       "      <td>NaN</td>\n",
       "      <td>Just happened a terrible car crash</td>\n",
       "    </tr>\n",
       "    <tr>\n",
       "      <th>1</th>\n",
       "      <td>2</td>\n",
       "      <td>NaN</td>\n",
       "      <td>NaN</td>\n",
       "      <td>Heard about #earthquake is different cities, s...</td>\n",
       "    </tr>\n",
       "    <tr>\n",
       "      <th>2</th>\n",
       "      <td>3</td>\n",
       "      <td>NaN</td>\n",
       "      <td>NaN</td>\n",
       "      <td>there is a forest fire at spot pond, geese are...</td>\n",
       "    </tr>\n",
       "    <tr>\n",
       "      <th>3</th>\n",
       "      <td>9</td>\n",
       "      <td>NaN</td>\n",
       "      <td>NaN</td>\n",
       "      <td>Apocalypse lighting. #Spokane #wildfires</td>\n",
       "    </tr>\n",
       "    <tr>\n",
       "      <th>4</th>\n",
       "      <td>11</td>\n",
       "      <td>NaN</td>\n",
       "      <td>NaN</td>\n",
       "      <td>Typhoon Soudelor kills 28 in China and Taiwan</td>\n",
       "    </tr>\n",
       "  </tbody>\n",
       "</table>\n",
       "</div>"
      ],
      "text/plain": [
       "   id keyword location                                               text\n",
       "0   0     NaN      NaN                 Just happened a terrible car crash\n",
       "1   2     NaN      NaN  Heard about #earthquake is different cities, s...\n",
       "2   3     NaN      NaN  there is a forest fire at spot pond, geese are...\n",
       "3   9     NaN      NaN           Apocalypse lighting. #Spokane #wildfires\n",
       "4  11     NaN      NaN      Typhoon Soudelor kills 28 in China and Taiwan"
      ]
     },
     "execution_count": 14,
     "metadata": {},
     "output_type": "execute_result"
    }
   ],
   "source": [
    "test_df = pd.read_csv('../input/nlp-getting-started/test.csv')\n",
    "test_df.head()"
   ]
  },
  {
   "cell_type": "markdown",
   "metadata": {},
   "source": [
    "# Understanding test data"
   ]
  },
  {
   "cell_type": "code",
   "execution_count": 15,
   "metadata": {
    "execution": {
     "iopub.execute_input": "2021-06-22T14:54:12.063430Z",
     "iopub.status.busy": "2021-06-22T14:54:12.063050Z",
     "iopub.status.idle": "2021-06-22T14:54:12.070191Z",
     "shell.execute_reply": "2021-06-22T14:54:12.068810Z",
     "shell.execute_reply.started": "2021-06-22T14:54:12.063393Z"
    }
   },
   "outputs": [
    {
     "name": "stdout",
     "output_type": "stream",
     "text": [
      "Shape of test data (3263, 4)\n",
      "['id', 'keyword', 'location', 'text']\n"
     ]
    }
   ],
   "source": [
    "#Shape and list of columns of test data\n",
    "print(\"Shape of test data\",test_df.shape)\n",
    "print(list(test_df.columns))"
   ]
  },
  {
   "cell_type": "code",
   "execution_count": 16,
   "metadata": {
    "execution": {
     "iopub.execute_input": "2021-06-22T14:54:16.020001Z",
     "iopub.status.busy": "2021-06-22T14:54:16.019602Z",
     "iopub.status.idle": "2021-06-22T14:54:16.036876Z",
     "shell.execute_reply": "2021-06-22T14:54:16.035872Z",
     "shell.execute_reply.started": "2021-06-22T14:54:16.019948Z"
    }
   },
   "outputs": [
    {
     "name": "stdout",
     "output_type": "stream",
     "text": [
      "<class 'pandas.core.frame.DataFrame'>\n",
      "RangeIndex: 3263 entries, 0 to 3262\n",
      "Data columns (total 4 columns):\n",
      " #   Column    Non-Null Count  Dtype \n",
      "---  ------    --------------  ----- \n",
      " 0   id        3263 non-null   int64 \n",
      " 1   keyword   3237 non-null   object\n",
      " 2   location  2158 non-null   object\n",
      " 3   text      3263 non-null   object\n",
      "dtypes: int64(1), object(3)\n",
      "memory usage: 102.1+ KB\n"
     ]
    }
   ],
   "source": [
    "#General description of the test data\n",
    "test_df.info()"
   ]
  },
  {
   "cell_type": "code",
   "execution_count": 17,
   "metadata": {
    "execution": {
     "iopub.execute_input": "2021-06-22T14:54:18.306756Z",
     "iopub.status.busy": "2021-06-22T14:54:18.306397Z",
     "iopub.status.idle": "2021-06-22T14:54:18.311000Z",
     "shell.execute_reply": "2021-06-22T14:54:18.309914Z",
     "shell.execute_reply.started": "2021-06-22T14:54:18.306725Z"
    }
   },
   "outputs": [],
   "source": [
    "#Create a copy of test data\n",
    "test_df_copy = test_df"
   ]
  },
  {
   "cell_type": "code",
   "execution_count": 18,
   "metadata": {
    "execution": {
     "iopub.execute_input": "2021-06-22T14:54:47.737108Z",
     "iopub.status.busy": "2021-06-22T14:54:47.736713Z",
     "iopub.status.idle": "2021-06-22T14:54:47.749083Z",
     "shell.execute_reply": "2021-06-22T14:54:47.748111Z",
     "shell.execute_reply.started": "2021-06-22T14:54:47.737076Z"
    }
   },
   "outputs": [
    {
     "data": {
      "text/html": [
       "<div>\n",
       "<style scoped>\n",
       "    .dataframe tbody tr th:only-of-type {\n",
       "        vertical-align: middle;\n",
       "    }\n",
       "\n",
       "    .dataframe tbody tr th {\n",
       "        vertical-align: top;\n",
       "    }\n",
       "\n",
       "    .dataframe thead th {\n",
       "        text-align: right;\n",
       "    }\n",
       "</style>\n",
       "<table border=\"1\" class=\"dataframe\">\n",
       "  <thead>\n",
       "    <tr style=\"text-align: right;\">\n",
       "      <th></th>\n",
       "      <th>id</th>\n",
       "      <th>keyword</th>\n",
       "      <th>location</th>\n",
       "      <th>text</th>\n",
       "    </tr>\n",
       "  </thead>\n",
       "  <tbody>\n",
       "    <tr>\n",
       "      <th>0</th>\n",
       "      <td>0</td>\n",
       "      <td>NaN</td>\n",
       "      <td>NaN</td>\n",
       "      <td>Just happened a terrible car crash</td>\n",
       "    </tr>\n",
       "    <tr>\n",
       "      <th>1</th>\n",
       "      <td>2</td>\n",
       "      <td>NaN</td>\n",
       "      <td>NaN</td>\n",
       "      <td>Heard about #earthquake is different cities, s...</td>\n",
       "    </tr>\n",
       "    <tr>\n",
       "      <th>2</th>\n",
       "      <td>3</td>\n",
       "      <td>NaN</td>\n",
       "      <td>NaN</td>\n",
       "      <td>there is a forest fire at spot pond, geese are...</td>\n",
       "    </tr>\n",
       "    <tr>\n",
       "      <th>3</th>\n",
       "      <td>9</td>\n",
       "      <td>NaN</td>\n",
       "      <td>NaN</td>\n",
       "      <td>Apocalypse lighting. #Spokane #wildfires</td>\n",
       "    </tr>\n",
       "    <tr>\n",
       "      <th>4</th>\n",
       "      <td>11</td>\n",
       "      <td>NaN</td>\n",
       "      <td>NaN</td>\n",
       "      <td>Typhoon Soudelor kills 28 in China and Taiwan</td>\n",
       "    </tr>\n",
       "  </tbody>\n",
       "</table>\n",
       "</div>"
      ],
      "text/plain": [
       "   id keyword location                                               text\n",
       "0   0     NaN      NaN                 Just happened a terrible car crash\n",
       "1   2     NaN      NaN  Heard about #earthquake is different cities, s...\n",
       "2   3     NaN      NaN  there is a forest fire at spot pond, geese are...\n",
       "3   9     NaN      NaN           Apocalypse lighting. #Spokane #wildfires\n",
       "4  11     NaN      NaN      Typhoon Soudelor kills 28 in China and Taiwan"
      ]
     },
     "execution_count": 18,
     "metadata": {},
     "output_type": "execute_result"
    }
   ],
   "source": [
    "#Display the copy\n",
    "test_df_copy.head()"
   ]
  },
  {
   "cell_type": "code",
   "execution_count": 19,
   "metadata": {
    "execution": {
     "iopub.execute_input": "2021-06-22T14:54:51.652113Z",
     "iopub.status.busy": "2021-06-22T14:54:51.651358Z",
     "iopub.status.idle": "2021-06-22T14:54:51.663465Z",
     "shell.execute_reply": "2021-06-22T14:54:51.662551Z",
     "shell.execute_reply.started": "2021-06-22T14:54:51.652076Z"
    }
   },
   "outputs": [
    {
     "data": {
      "text/html": [
       "<div>\n",
       "<style scoped>\n",
       "    .dataframe tbody tr th:only-of-type {\n",
       "        vertical-align: middle;\n",
       "    }\n",
       "\n",
       "    .dataframe tbody tr th {\n",
       "        vertical-align: top;\n",
       "    }\n",
       "\n",
       "    .dataframe thead th {\n",
       "        text-align: right;\n",
       "    }\n",
       "</style>\n",
       "<table border=\"1\" class=\"dataframe\">\n",
       "  <thead>\n",
       "    <tr style=\"text-align: right;\">\n",
       "      <th></th>\n",
       "      <th>text</th>\n",
       "    </tr>\n",
       "  </thead>\n",
       "  <tbody>\n",
       "    <tr>\n",
       "      <th>0</th>\n",
       "      <td>Just happened a terrible car crash</td>\n",
       "    </tr>\n",
       "    <tr>\n",
       "      <th>1</th>\n",
       "      <td>Heard about #earthquake is different cities, s...</td>\n",
       "    </tr>\n",
       "    <tr>\n",
       "      <th>2</th>\n",
       "      <td>there is a forest fire at spot pond, geese are...</td>\n",
       "    </tr>\n",
       "    <tr>\n",
       "      <th>3</th>\n",
       "      <td>Apocalypse lighting. #Spokane #wildfires</td>\n",
       "    </tr>\n",
       "    <tr>\n",
       "      <th>4</th>\n",
       "      <td>Typhoon Soudelor kills 28 in China and Taiwan</td>\n",
       "    </tr>\n",
       "  </tbody>\n",
       "</table>\n",
       "</div>"
      ],
      "text/plain": [
       "                                                text\n",
       "0                 Just happened a terrible car crash\n",
       "1  Heard about #earthquake is different cities, s...\n",
       "2  there is a forest fire at spot pond, geese are...\n",
       "3           Apocalypse lighting. #Spokane #wildfires\n",
       "4      Typhoon Soudelor kills 28 in China and Taiwan"
      ]
     },
     "execution_count": 19,
     "metadata": {},
     "output_type": "execute_result"
    }
   ],
   "source": [
    "#Drop the unnecessary columns\n",
    "test_df = test_df.drop(['id','keyword','location'],axis=1)\n",
    "test_df.head()"
   ]
  },
  {
   "cell_type": "markdown",
   "metadata": {},
   "source": [
    "# Bag of Words for test data"
   ]
  },
  {
   "cell_type": "code",
   "execution_count": 32,
   "metadata": {
    "execution": {
     "iopub.execute_input": "2021-06-22T15:07:23.573263Z",
     "iopub.status.busy": "2021-06-22T15:07:23.572871Z",
     "iopub.status.idle": "2021-06-22T15:07:25.493863Z",
     "shell.execute_reply": "2021-06-22T15:07:25.492925Z",
     "shell.execute_reply.started": "2021-06-22T15:07:23.573230Z"
    }
   },
   "outputs": [],
   "source": [
    "c = []\n",
    "for i in range(0,3263):\n",
    "    #Replaces every character thats not an alphabet to \" \"\n",
    "    r = re.sub('[^a-zA-Z]', \" \",test_df['text'][i]) \n",
    "    #Convert all words to lower case and splits them\n",
    "    r = r.lower() \n",
    "    r = r.split() \n",
    "    psi = PorterStemmer()\n",
    "    u_s = stopwords.words('english') \n",
    "    #Remove the word 'not' from the list of stopwords \n",
    "    u_s.remove('not') \n",
    "    #Stemming\n",
    "    r = [psi.stem(word) for word in r if not word in set(u_s)] \n",
    "    r = ' '.join(r)\n",
    "    c.append(r)"
   ]
  },
  {
   "cell_type": "code",
   "execution_count": 33,
   "metadata": {
    "execution": {
     "iopub.execute_input": "2021-06-22T15:07:30.231260Z",
     "iopub.status.busy": "2021-06-22T15:07:30.230884Z",
     "iopub.status.idle": "2021-06-22T15:07:30.295540Z",
     "shell.execute_reply": "2021-06-22T15:07:30.294298Z",
     "shell.execute_reply.started": "2021-06-22T15:07:30.231228Z"
    }
   },
   "outputs": [],
   "source": [
    "test_X = cv.transform(c)"
   ]
  },
  {
   "cell_type": "markdown",
   "metadata": {},
   "source": [
    "# Prediction!"
   ]
  },
  {
   "cell_type": "code",
   "execution_count": 34,
   "metadata": {
    "execution": {
     "iopub.execute_input": "2021-06-22T15:07:35.750203Z",
     "iopub.status.busy": "2021-06-22T15:07:35.749521Z",
     "iopub.status.idle": "2021-06-22T15:07:35.761167Z",
     "shell.execute_reply": "2021-06-22T15:07:35.760227Z",
     "shell.execute_reply.started": "2021-06-22T15:07:35.750149Z"
    }
   },
   "outputs": [],
   "source": [
    "sample_submission = pd.read_csv(\"../input/nlp-getting-started/sample_submission.csv\")\n",
    "sample_submission[\"target\"] = classifier_lr.predict(test_X)"
   ]
  },
  {
   "cell_type": "markdown",
   "metadata": {},
   "source": [
    "# Submission"
   ]
  },
  {
   "cell_type": "code",
   "execution_count": 35,
   "metadata": {
    "execution": {
     "iopub.execute_input": "2021-06-22T15:08:26.878349Z",
     "iopub.status.busy": "2021-06-22T15:08:26.877885Z",
     "iopub.status.idle": "2021-06-22T15:08:26.888438Z",
     "shell.execute_reply": "2021-06-22T15:08:26.887670Z",
     "shell.execute_reply.started": "2021-06-22T15:08:26.878312Z"
    }
   },
   "outputs": [
    {
     "data": {
      "text/html": [
       "<div>\n",
       "<style scoped>\n",
       "    .dataframe tbody tr th:only-of-type {\n",
       "        vertical-align: middle;\n",
       "    }\n",
       "\n",
       "    .dataframe tbody tr th {\n",
       "        vertical-align: top;\n",
       "    }\n",
       "\n",
       "    .dataframe thead th {\n",
       "        text-align: right;\n",
       "    }\n",
       "</style>\n",
       "<table border=\"1\" class=\"dataframe\">\n",
       "  <thead>\n",
       "    <tr style=\"text-align: right;\">\n",
       "      <th></th>\n",
       "      <th>id</th>\n",
       "      <th>target</th>\n",
       "    </tr>\n",
       "  </thead>\n",
       "  <tbody>\n",
       "    <tr>\n",
       "      <th>0</th>\n",
       "      <td>0</td>\n",
       "      <td>1</td>\n",
       "    </tr>\n",
       "    <tr>\n",
       "      <th>1</th>\n",
       "      <td>2</td>\n",
       "      <td>1</td>\n",
       "    </tr>\n",
       "    <tr>\n",
       "      <th>2</th>\n",
       "      <td>3</td>\n",
       "      <td>1</td>\n",
       "    </tr>\n",
       "    <tr>\n",
       "      <th>3</th>\n",
       "      <td>9</td>\n",
       "      <td>1</td>\n",
       "    </tr>\n",
       "    <tr>\n",
       "      <th>4</th>\n",
       "      <td>11</td>\n",
       "      <td>1</td>\n",
       "    </tr>\n",
       "  </tbody>\n",
       "</table>\n",
       "</div>"
      ],
      "text/plain": [
       "   id  target\n",
       "0   0       1\n",
       "1   2       1\n",
       "2   3       1\n",
       "3   9       1\n",
       "4  11       1"
      ]
     },
     "execution_count": 35,
     "metadata": {},
     "output_type": "execute_result"
    }
   ],
   "source": [
    "sample_submission.head()"
   ]
  },
  {
   "cell_type": "code",
   "execution_count": 36,
   "metadata": {
    "execution": {
     "iopub.execute_input": "2021-06-22T15:08:40.866803Z",
     "iopub.status.busy": "2021-06-22T15:08:40.866298Z",
     "iopub.status.idle": "2021-06-22T15:08:40.880486Z",
     "shell.execute_reply": "2021-06-22T15:08:40.879246Z",
     "shell.execute_reply.started": "2021-06-22T15:08:40.866770Z"
    }
   },
   "outputs": [],
   "source": [
    "sample_submission.to_csv(\"submission.csv\", index=False)"
   ]
  }
 ],
 "metadata": {
  "kernelspec": {
   "display_name": "Python 3",
   "language": "python",
   "name": "python3"
  },
  "language_info": {
   "codemirror_mode": {
    "name": "ipython",
    "version": 3
   },
   "file_extension": ".py",
   "mimetype": "text/x-python",
   "name": "python",
   "nbconvert_exporter": "python",
   "pygments_lexer": "ipython3",
   "version": "3.7.4"
  }
 },
 "nbformat": 4,
 "nbformat_minor": 4
}
